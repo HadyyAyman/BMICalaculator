{
 "cells": [
  {
   "cell_type": "markdown",
   "id": "5f594728",
   "metadata": {},
   "source": [
    "# BMI Calculator \n",
    "https://www.cdc.gov/healthyweight/assessing/bmi/adult_bmi/index.html#Interpreted\n",
    "https://www.cdc.gov/healthyweight/assessing/bmi/adult_bmi/english_bmi_calculator/bmi_calculator.html"
   ]
  },
  {
   "cell_type": "code",
   "execution_count": 1,
   "id": "7e028e58",
   "metadata": {},
   "outputs": [],
   "source": [
    "# First BMI weight in kgs , height in centimeters \n",
    "# Second BMI weight in pounds , height in inches"
   ]
  },
  {
   "cell_type": "code",
   "execution_count": 16,
   "id": "9065753f",
   "metadata": {},
   "outputs": [
    {
     "name": "stdout",
     "output_type": "stream",
     "text": [
      "English | Metrics English\n",
      "Enter your weight in pounds and height in inches \n",
      "1.Weight: 170\n",
      "2.Height: 67\n",
      "26.6\n",
      "Overweight\n",
      "For Your Information\n",
      "Below 18.5\tUnderweight\n",
      "18.5 – 24.9\tHealthy Weight\n",
      "25.0 – 29.9\tOverweight\n",
      "30.0 and Above\tObesity\n"
     ]
    }
   ],
   "source": [
    "Method = input(\"English | Metrics \")\n",
    "if Method == \"English\":\n",
    "    \n",
    "    print(\"Enter your weight in pounds and height in inches \")\n",
    "    \n",
    "    weight = float(input(\"1.Weight: \"))\n",
    "\n",
    "    height = float(input(\"2.Height: \"))\n",
    "    \n",
    "    BMI = (weight * 703) / (height * height)\n",
    "    \n",
    "elif Method == \"Metrics\":\n",
    "    \n",
    "    print(\"Enter your weight in KGs and height in meters \")\n",
    "    \n",
    "    weight = float(input(\"1.Weight: \"))\n",
    "\n",
    "    height = float(input(\"2.Height: \"))\n",
    "    \n",
    "    BMI = weight / (height * height)\n",
    "    \n",
    "else: \n",
    "    print(\"Choose a valid method please\")\n",
    "    \n",
    "print(round(BMI,1))\n",
    "\n",
    "if BMI > 0:\n",
    "    if BMI < 18.5:\n",
    "        print(\"Underweight\")\n",
    "        \n",
    "    elif BMI <= 24.9:\n",
    "        print(\"Healthy Weight\")\n",
    "        \n",
    "    elif BMI <= 29.9:\n",
    "        print(\"Overweight\")\n",
    "\n",
    "    elif BMI >= 30.0:\n",
    "        print(\"Obesity\")\n",
    "else:\n",
    "    print(\"Check your inputs please\")\n",
    "    \n",
    "print(\"\"\"For Your Information\n",
    "Below 18.5\tUnderweight\n",
    "18.5 – 24.9\tHealthy Weight\n",
    "25.0 – 29.9\tOverweight\n",
    "30.0 and Above\tObesity\"\"\")"
   ]
  },
  {
   "cell_type": "code",
   "execution_count": null,
   "id": "2a83cbb5",
   "metadata": {},
   "outputs": [],
   "source": []
  },
  {
   "cell_type": "code",
   "execution_count": null,
   "id": "2665c518",
   "metadata": {},
   "outputs": [],
   "source": []
  }
 ],
 "metadata": {
  "kernelspec": {
   "display_name": "Python 3 (ipykernel)",
   "language": "python",
   "name": "python3"
  },
  "language_info": {
   "codemirror_mode": {
    "name": "ipython",
    "version": 3
   },
   "file_extension": ".py",
   "mimetype": "text/x-python",
   "name": "python",
   "nbconvert_exporter": "python",
   "pygments_lexer": "ipython3",
   "version": "3.9.13"
  }
 },
 "nbformat": 4,
 "nbformat_minor": 5
}
